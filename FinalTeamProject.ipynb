{
  "nbformat": 4,
  "nbformat_minor": 0,
  "metadata": {
    "colab": {
      "name": "FinalTeamProject",
      "provenance": [],
      "include_colab_link": true
    },
    "kernelspec": {
      "name": "python3",
      "display_name": "Python 3"
    }
  },
  "cells": [
    {
      "cell_type": "markdown",
      "metadata": {
        "id": "view-in-github",
        "colab_type": "text"
      },
      "source": [
        "<a href=\"https://colab.research.google.com/github/hasannadeemclass/SRA268/blob/master/FinalTeamProject.ipynb\" target=\"_parent\"><img src=\"https://colab.research.google.com/assets/colab-badge.svg\" alt=\"Open In Colab\"/></a>"
      ]
    },
    {
      "cell_type": "markdown",
      "metadata": {
        "id": "Kw5PZBtl0Ob6",
        "colab_type": "text"
      },
      "source": [
        "# **Studying COVID-19 spread in the California and New York**"
      ]
    },
    {
      "cell_type": "markdown",
      "metadata": {
        "id": "iXWAmSVB0Rno",
        "colab_type": "text"
      },
      "source": [
        "Contributors:\n",
        "\n",
        "\n",
        "*   Hasan Nadeem\n",
        "*   Vincent Mcgee\n",
        "*   Eric Sanchez\n",
        "\n",
        "\n",
        "\n"
      ]
    },
    {
      "cell_type": "markdown",
      "metadata": {
        "id": "WpaW-i5l0ZHn",
        "colab_type": "text"
      },
      "source": [
        "## Background"
      ]
    },
    {
      "cell_type": "markdown",
      "metadata": {
        "id": "E4VKsOvP0eev",
        "colab_type": "text"
      },
      "source": [
        "California and New York hold the highest and fourth highest populations in the United States of America respectively. They are expected to have high COVID-19 cases and deaths because of this. Other states may look at the decisions made of largely infected states. The precedent for stay-at-home orders, nonessential business closures, and state reopening can be modeled after. It could also be said that regions within states will look at the acts of regions of California and New York as well. Populated city regions may have a high interest in the move of New York City, for example. A state with beaches and other high summer tourist areas may look the decisions of regions in California, for example.  This is why our group decided to compare the states of California and New York. We decided to utilize Tableau in order to compare the populations and COVID-19 cases in the two states. We hope to find reason behind why the statistics found are what they are. This has led us to form many assumptions for the various possible cases.  \n",
        "\n",
        "\n"
      ]
    },
    {
      "cell_type": "markdown",
      "metadata": {
        "id": "7d8vfcGufV0_",
        "colab_type": "text"
      },
      "source": [
        "### Goal"
      ]
    },
    {
      "cell_type": "markdown",
      "metadata": {
        "id": "e1jKSGTjfY2H",
        "colab_type": "text"
      },
      "source": [
        "To create assumptions based on the information that we have on Covid-19 in the states of California and New York. The reader should walk away feeling more informed about Covid-19 in NY and CA."
      ]
    },
    {
      "cell_type": "markdown",
      "metadata": {
        "id": "GOxy_TvCfi54",
        "colab_type": "text"
      },
      "source": [
        "### Assumptions"
      ]
    },
    {
      "cell_type": "markdown",
      "metadata": {
        "id": "cw1v_1MMfnAR",
        "colab_type": "text"
      },
      "source": [
        "*   If California has a higher ammount of COVID-19 cases due to a higher population on the West Coast\n",
        "\n",
        "*   If California has a higher ammount of COVID-19 cases due to the first reports coming out of Washington state\n",
        "\n",
        "*   If New York has a higher ammount of COVID-19 cases it could be due to NYC  having a large condensed population\n",
        "\n",
        "*   More open, less populous land in the West Coast could also lead to California having less COVID-19 cases than New York\n",
        "\n",
        "*   New York City could have more cases than many entire states\n",
        "\n",
        "*   New Yorkers may be more dismissive of stay-at-home orders may lead to more COVID-19 cases\n",
        "\n",
        "*   Travelling between cities such as Philadelphia, Delaware, New Jersey and New York may lead to more COVID-19 cases\n",
        "\n",
        "*   COVID-19 cases in both states could be inacruate due to various factors such as the lack of children testing\n",
        " \n",
        "\n",
        "*   The handling of stay-at-home orders and treatments could have lowered one of the states' case number\n",
        "\n",
        "*   Both states will have high COVID-19 cases due to their populations which will lead other states to look at their moves as precedent, somewhat\n",
        "\n"
      ]
    },
    {
      "cell_type": "markdown",
      "metadata": {
        "id": "jKGILpu7gWr6",
        "colab_type": "text"
      },
      "source": [
        "### Data Sources"
      ]
    },
    {
      "cell_type": "markdown",
      "metadata": {
        "id": "uwCao7AtgbNn",
        "colab_type": "text"
      },
      "source": [
        "In order to complete the goal for this project we had to compile data together which looked at both COVID19 cases and population sizes. The data sources for this project that we decided to use reflect the data trends of COVID19 in the states of California and New York and look at the populations of each. The first source was the \"covid19DataPerState\" dataset from class, and the second was a dataset compiled from the US census data for New York and California. Using these two data sources allowed us to effectivley analyze the spread of COVID19 in each state, and how this correlated to their respective populations. The sources were used separately in order to see how the variables of COVID19 spread and population size could be analyzed for their correlation. Both sources that were utilized for this project can also be verified as reputable, as the first came directly from class and the second came from the official website for US Census data. Regarding the process of determining what kind of data sources to use, we tried to search for data from official sources so that there would not be uncertainty of verifying the data’s reputability. Overall, these datasets were effective in creating a graph for comparing the COVID19 case numbers with population size in New York and California. \n",
        "\n",
        "\n",
        "https://www.census.gov/quickfacts/fact/table/NY,CA"
      ]
    },
    {
      "cell_type": "markdown",
      "metadata": {
        "id": "kDgSdoQUgg2Z",
        "colab_type": "text"
      },
      "source": [
        "#### Sources"
      ]
    },
    {
      "cell_type": "markdown",
      "metadata": {
        "id": "dFzYIi0Agi2_",
        "colab_type": "text"
      },
      "source": [
        "Provide links and the name of the source to the document. Give credit where credit is due!\n",
        "\n",
        "[1]https://www.foxnews.com/world/world-health-organization-january-tweet-china-human-transmission-coronavirus\n",
        "\n",
        "[2]https://twitter.com/who/status/1243972193169616898\n",
        "\n",
        "[3]https://www.census.gov/quickfacts/fact/table/NY,CA"
      ]
    },
    {
      "cell_type": "markdown",
      "metadata": {
        "id": "qcFak2v7g3jt",
        "colab_type": "text"
      },
      "source": [
        "## Dashboard (5)"
      ]
    },
    {
      "cell_type": "code",
      "metadata": {
        "id": "knG79vNP0Q0u",
        "colab_type": "code",
        "outputId": "bfcbd919-5cd0-4f5f-9d9a-69015b7ccc77",
        "colab": {
          "base_uri": "https://localhost:8080/",
          "height": 844
        }
      },
      "source": [
        "import IPython\n",
        "IPython.display.HTML(\"<div class='tableauPlaceholder' id='viz1588021336357' style='position: relative'><noscript><a href='#'><img alt=' ' src='https:&#47;&#47;public.tableau.com&#47;static&#47;images&#47;SR&#47;SRATeamProject&#47;Dashboard1&#47;1_rss.png' style='border: none' /></a></noscript><object class='tableauViz'  style='display:none;'><param name='host_url' value='https%3A%2F%2Fpublic.tableau.com%2F' /> <param name='embed_code_version' value='3' /> <param name='site_root' value='' /><param name='name' value='SRATeamProject&#47;Dashboard1' /><param name='tabs' value='no' /><param name='toolbar' value='yes' /><param name='static_image' value='https:&#47;&#47;public.tableau.com&#47;static&#47;images&#47;SR&#47;SRATeamProject&#47;Dashboard1&#47;1.png' /> <param name='animate_transition' value='yes' /><param name='display_static_image' value='yes' /><param name='display_spinner' value='yes' /><param name='display_overlay' value='yes' /><param name='display_count' value='yes' /><param name='filter' value='publish=yes' /></object></div>                <script type='text/javascript'>                    var divElement = document.getElementById('viz1588021336357');                    var vizElement = divElement.getElementsByTagName('object')[0];                    if ( divElement.offsetWidth > 800 ) { vizElement.style.width='1000px';vizElement.style.height='827px';} else if ( divElement.offsetWidth > 500 ) { vizElement.style.width='1000px';vizElement.style.height='827px';} else { vizElement.style.width='100%';vizElement.style.height='727px';}                     var scriptElement = document.createElement('script');                    scriptElement.src = 'https://public.tableau.com/javascripts/api/viz_v1.js';                    vizElement.parentNode.insertBefore(scriptElement, vizElement);                </script>\")\n"
      ],
      "execution_count": 0,
      "outputs": [
        {
          "output_type": "execute_result",
          "data": {
            "text/html": [
              "<div class='tableauPlaceholder' id='viz1588021336357' style='position: relative'><noscript><a href='#'><img alt=' ' src='https:&#47;&#47;public.tableau.com&#47;static&#47;images&#47;SR&#47;SRATeamProject&#47;Dashboard1&#47;1_rss.png' style='border: none' /></a></noscript><object class='tableauViz'  style='display:none;'><param name='host_url' value='https%3A%2F%2Fpublic.tableau.com%2F' /> <param name='embed_code_version' value='3' /> <param name='site_root' value='' /><param name='name' value='SRATeamProject&#47;Dashboard1' /><param name='tabs' value='no' /><param name='toolbar' value='yes' /><param name='static_image' value='https:&#47;&#47;public.tableau.com&#47;static&#47;images&#47;SR&#47;SRATeamProject&#47;Dashboard1&#47;1.png' /> <param name='animate_transition' value='yes' /><param name='display_static_image' value='yes' /><param name='display_spinner' value='yes' /><param name='display_overlay' value='yes' /><param name='display_count' value='yes' /><param name='filter' value='publish=yes' /></object></div>                <script type='text/javascript'>                    var divElement = document.getElementById('viz1588021336357');                    var vizElement = divElement.getElementsByTagName('object')[0];                    if ( divElement.offsetWidth > 800 ) { vizElement.style.width='1000px';vizElement.style.height='827px';} else if ( divElement.offsetWidth > 500 ) { vizElement.style.width='1000px';vizElement.style.height='827px';} else { vizElement.style.width='100%';vizElement.style.height='727px';}                     var scriptElement = document.createElement('script');                    scriptElement.src = 'https://public.tableau.com/javascripts/api/viz_v1.js';                    vizElement.parentNode.insertBefore(scriptElement, vizElement);                </script>"
            ],
            "text/plain": [
              "<IPython.core.display.HTML object>"
            ]
          },
          "metadata": {
            "tags": []
          },
          "execution_count": 1
        }
      ]
    },
    {
      "cell_type": "markdown",
      "metadata": {
        "id": "SvWfnlDjnos1",
        "colab_type": "text"
      },
      "source": [
        "## Conclusion"
      ]
    },
    {
      "cell_type": "markdown",
      "metadata": {
        "id": "yFu5oocIM-v0",
        "colab_type": "text"
      },
      "source": [
        "  Since this Coronavirus has begun it has been apparent that we have not had a great grasp on exactly how and when this virus began transmitting from person to person. The World Health Organization on January 14th sent out a tweet stating no evidence of human-to-human spreading[1]. They doubled down on March 28th stating COVID-19 was not airborne at all but rather spread through droplets[2]. I mention this to emphasize that not all the information that we are receiving right now is accurate but we must work within our allotted means. Something that has been gaining the attention of officials is the disease is in fact disportionately affecting the African American community. \n",
        "From the graph we made it is obvious that New York, a state that has an 11% higher rate of Black citizens than California is being impacted much larger in the amount of cases and deaths. It is not known whether it is due to mistreatment or because the African American community generally has higher rates of underlying diseases that cause complications with COVID-19. Our graph's main purpose is to differentiate how the numbers are so drastically different when California has 20,000,000 more citizens than the state of New York[3]. The approach of both states were very aggressive in trying to combat the virus so what could it have been? \n",
        "\n",
        "  One potential reason for this could be due to the highly congested cities like New York City as opposed to a more spaced out large city like San Francisco. Another assumption we could come to from the data is that the stay at home orders are being obeyed differently in the state. New Yorkers are much different than the typical Californian in the sense that those on the East Coast are more irritable and fast moving than those on  the West Coast. There have also been some discrepancies on how the New York mayor and the governor are going about the stay at home order. They are not on the same page at all and the conflicting messages could be leading to citizens becoming sick due to misinformation. The amount of international tourism that New York and Philadelphia receives is massive and the virus did start overseas. Due to many European and Asian Tourists it is quite possible that since the virus has been around since November that many carriers came to the states. We could also assume that the numbers could be inaccurate as of now. It is unsure how many antibody carriers or actual virus carriers there are.\n",
        "\n",
        "  In conclusion, while we can make models from the information that we have it is only assumptions that may or may not be true. However, it is very interesting how different the numbers in cities that we think of regularly are similar. I believe that one of the most important takeaways from the graph is that while large populations usually lead to more spread it is all about how effective the governing body does protecting their citizens.\n"
      ]
    }
  ]
}