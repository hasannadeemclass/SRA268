{
  "nbformat": 4,
  "nbformat_minor": 0,
  "metadata": {
    "colab": {
      "name": "Copy of Lab2Template.ipynb",
      "provenance": [],
      "include_colab_link": true
    },
    "kernelspec": {
      "name": "python3",
      "display_name": "Python 3"
    }
  },
  "cells": [
    {
      "cell_type": "markdown",
      "metadata": {
        "id": "view-in-github",
        "colab_type": "text"
      },
      "source": [
        "<a href=\"https://colab.research.google.com/github/hasannadeemclass/SRA268/blob/master/Lab2.ipynb\" target=\"_parent\"><img src=\"https://colab.research.google.com/assets/colab-badge.svg\" alt=\"Open In Colab\"/></a>"
      ]
    },
    {
      "cell_type": "markdown",
      "metadata": {
        "id": "6sOc4Uyr4U-Z",
        "colab_type": "text"
      },
      "source": [
        "## Graph Types"
      ]
    },
    {
      "cell_type": "markdown",
      "metadata": {
        "id": "0zZdVLAd5CYr",
        "colab_type": "text"
      },
      "source": [
        "Creator\n",
        "\n",
        "Hasan Nadeem"
      ]
    },
    {
      "cell_type": "markdown",
      "metadata": {
        "id": "g-r6Clq45Hn4",
        "colab_type": "text"
      },
      "source": [
        "### Deviation\n",
        "\n",
        "![alt text](https://raw.githubusercontent.com/hasannadeemclass/SRA268/master/Deviation.png)\n",
        "\n"
      ]
    },
    {
      "cell_type": "markdown",
      "metadata": {
        "id": "w6bZ_NEi7E3w",
        "colab_type": "text"
      },
      "source": [
        "#### What is this telling us?"
      ]
    },
    {
      "cell_type": "markdown",
      "metadata": {
        "id": "95L-spaC7QHF",
        "colab_type": "text"
      },
      "source": [
        "This deviation graph shows the variable “Game Date” as the x-axis value, as well as the average of all data (AvgOfAllData), average per year (AvgPerYear), and the average of all data subtracted by the average per year (AvgOfAllData – AvgPerYear). Deviation graphs are rather effective at emphasizing variations using a fixed point, and this does just that with the variables used. The third subsection of the graph which shows the result of (AvgOfAllData – AvgPerYear) illustrates how some of the results differed and skewed from the average point. In terms of improving this graph, it could perhaps use some aesthetic changes in order to make it easier to read and interpret. "
      ]
    },
    {
      "cell_type": "markdown",
      "metadata": {
        "id": "YgXyXjmz7cDP",
        "colab_type": "text"
      },
      "source": [
        "### Correlation\n"
      ]
    },
    {
      "cell_type": "markdown",
      "metadata": {
        "id": "SGx15rZq7hvt",
        "colab_type": "text"
      },
      "source": [
        "![alt text](https://raw.githubusercontent.com/hasannadeemclass/SRA268/master/Correlation.png)"
      ]
    },
    {
      "cell_type": "markdown",
      "metadata": {
        "id": "dljjONNi7jmj",
        "colab_type": "text"
      },
      "source": [
        "#### What is this telling us?"
      ]
    },
    {
      "cell_type": "markdown",
      "metadata": {
        "id": "PwZEZrFB7laG",
        "colab_type": "text"
      },
      "source": [
        "This correlation graph takes two variables, “Win Seed” on the y-axis and “Win Pts” on the x-axis and compares and illustrates their relationship. Based on the graph, the relationship between these two variables is heavily overlapping, with a few outliers. Included in the graph is a trend line, which helps to show the general direction that the graph is skewing in, and how close individual data points are to that direction. In terms of improving this graph, it certainly could use some cleaning up with it’s readability, perhaps by tweaking the ranges and repeat values used, in order to make it a little more clear. "
      ]
    },
    {
      "cell_type": "markdown",
      "metadata": {
        "id": "MqUdI-uL7r2s",
        "colab_type": "text"
      },
      "source": [
        "### Ranking\n"
      ]
    },
    {
      "cell_type": "markdown",
      "metadata": {
        "id": "AvlxCOVt7x9F",
        "colab_type": "text"
      },
      "source": [
        "![alt text](https://raw.githubusercontent.com/hasannadeemclass/SRA268/master/Ranking.png)"
      ]
    },
    {
      "cell_type": "markdown",
      "metadata": {
        "id": "lCAYtfza7yTq",
        "colab_type": "text"
      },
      "source": [
        "#### What is this telling us?"
      ]
    },
    {
      "cell_type": "markdown",
      "metadata": {
        "id": "MyuciD277ygU",
        "colab_type": "text"
      },
      "source": [
        "This ranking graph which compares the Academic Year variable with the rankings of Win Regions illustrates the positioning of the data in relation to one another. Bump lines which are intersecting and passing through and by circles representing data points display how the variables are positioned alongside themselves. This graph also does utilize increased variability in color coding, which helps in emphasizing and highlighting the relative positions of data points presented. I think this graph may be slightly overwhelming with how much data is being presented, but such is the nature of this sort of ranking graph which illustrates relative data positions.  "
      ]
    },
    {
      "cell_type": "markdown",
      "metadata": {
        "id": "dGDGl8-G7y8Y",
        "colab_type": "text"
      },
      "source": [
        "### Distribution\n"
      ]
    },
    {
      "cell_type": "markdown",
      "metadata": {
        "id": "FB0uV-jy76p9",
        "colab_type": "text"
      },
      "source": [
        "![alt text](https://raw.githubusercontent.com/hasannadeemclass/SRA268/master/Distribution.png)"
      ]
    },
    {
      "cell_type": "markdown",
      "metadata": {
        "id": "_6SOzhrQ76zH",
        "colab_type": "text"
      },
      "source": [
        "#### What is this telling us?"
      ]
    },
    {
      "cell_type": "markdown",
      "metadata": {
        "id": "HBWqsS_g767h",
        "colab_type": "text"
      },
      "source": [
        "This distribution graph which utilizes box plots illustrates the values of the dataset, and the rate at which they are occurring. The boxplot helps to show the median values for multiple distributions and identifies obvious outliers and extra datapoints. The boxplot is an effective way to view this data because it allows you to view the range of values, how often they occur, and their relative position when compared to the median of the data for each distribution. Overall, this distribution graph does a good job of illustrating the data how it is supposed to, although there are also other similarly effective ways to show data distributions as well. "
      ]
    },
    {
      "cell_type": "markdown",
      "metadata": {
        "id": "wQsDThk677Fy",
        "colab_type": "text"
      },
      "source": [
        "### Change over Time\n"
      ]
    },
    {
      "cell_type": "markdown",
      "metadata": {
        "id": "Z1j_YLOA7_OK",
        "colab_type": "text"
      },
      "source": [
        "![alt text](https://raw.githubusercontent.com/hasannadeemclass/SRA268/master/Change%20Over%20Time%20Graph.png)\n"
      ]
    },
    {
      "cell_type": "markdown",
      "metadata": {
        "id": "mpfsmmgi7_Vj",
        "colab_type": "text"
      },
      "source": [
        "#### What is this telling us?"
      ]
    },
    {
      "cell_type": "markdown",
      "metadata": {
        "id": "rYLXoMMO7_di",
        "colab_type": "text"
      },
      "source": [
        "This graph represents the change over time of data, essentially how the data trends over a certain time period. In this graph, the Win Pts on certain days of the month were compared over a period of years. The range for the days of the month in this graph were limited to starting on the 12th, as this is when more games began to be played. From there, data points were shown for the rest of the month, providing an interesting picture on the trend of Win Points becoming closer and tighter in the games as the month went on. "
      ]
    },
    {
      "cell_type": "markdown",
      "metadata": {
        "id": "lFwiHoE-7_jZ",
        "colab_type": "text"
      },
      "source": [
        "### Magnitude\n"
      ]
    },
    {
      "cell_type": "markdown",
      "metadata": {
        "id": "ICQFnXj78EbF",
        "colab_type": "text"
      },
      "source": [
        "![alt text](https://raw.githubusercontent.com/hasannadeemclass/SRA268/master/Magnitude.png)"
      ]
    },
    {
      "cell_type": "markdown",
      "metadata": {
        "id": "QGG7XYG88Eii",
        "colab_type": "text"
      },
      "source": [
        "#### What is this telling us?"
      ]
    },
    {
      "cell_type": "markdown",
      "metadata": {
        "id": "VS7uGa0l8Eos",
        "colab_type": "text"
      },
      "source": [
        "This magnitude graph shows a comparison of the Average Win Points data and the Average Win Seed data, ordered by the game date. The Avg. Win Pts and Avg. Win Seed variables are organized with a dual axis, which allows the data to be compared effectively. Furthermore, the variables are color coded, which again helps in comparing the data effectively. Using columns, which are generally the standard method of comparing things, was an easy way to convey the data without making it too complicated, although there are numerous other magnitude graphs which can effectively compare different types of data. "
      ]
    },
    {
      "cell_type": "markdown",
      "metadata": {
        "id": "bEKFxP8R8Evk",
        "colab_type": "text"
      },
      "source": [
        "### Part-to-Whole\n"
      ]
    },
    {
      "cell_type": "markdown",
      "metadata": {
        "id": "WFHlcYKV8E35",
        "colab_type": "text"
      },
      "source": [
        "![alt text](https://raw.githubusercontent.com/hasannadeemclass/SRA268/master/Part%20to%20Whole%20Treemap.png)"
      ]
    },
    {
      "cell_type": "markdown",
      "metadata": {
        "id": "PNSd3wlp8UZH",
        "colab_type": "text"
      },
      "source": [
        "#### What is this telling us?"
      ]
    },
    {
      "cell_type": "markdown",
      "metadata": {
        "id": "y9tb_QRA8aqt",
        "colab_type": "text"
      },
      "source": [
        "This specific type of graph, called a Part-To-Whole, uses a treemap method of presenting the data. A treemap uses different hierarchical relationships in order to show the data, which is why it’s useful for data with larger segments. It compares the amount of Win Pts to corresponding years and utilizes a gradient color-coding system. The color-coding system corresponds to the size of the blocks, getting lighter as the margin of Win Pts is reduced, effectively conveying the relationship between Win Pts and year. There are also other types of part-to-whole graphs, but the treemap is both aesthetically pleasing, and effective at presenting larger segments of data. "
      ]
    }
  ]
}